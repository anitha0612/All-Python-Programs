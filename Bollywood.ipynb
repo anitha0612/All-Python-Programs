{
 "cells": [
  {
   "cell_type": "code",
   "execution_count": 8,
   "id": "3c4cc3f6",
   "metadata": {},
   "outputs": [],
   "source": [
    "import numpy as np\n",
    "import pandas as pd\n",
    "from matplotlib import pyplot as plt\n",
    "import seaborn as sns"
   ]
  },
  {
   "cell_type": "code",
   "execution_count": 9,
   "id": "d59ba14a",
   "metadata": {},
   "outputs": [
    {
     "data": {
      "text/html": [
       "<div>\n",
       "<style scoped>\n",
       "    .dataframe tbody tr th:only-of-type {\n",
       "        vertical-align: middle;\n",
       "    }\n",
       "\n",
       "    .dataframe tbody tr th {\n",
       "        vertical-align: top;\n",
       "    }\n",
       "\n",
       "    .dataframe thead th {\n",
       "        text-align: right;\n",
       "    }\n",
       "</style>\n",
       "<table border=\"1\" class=\"dataframe\">\n",
       "  <thead>\n",
       "    <tr style=\"text-align: right;\">\n",
       "      <th></th>\n",
       "      <th>SlNo</th>\n",
       "      <th>Release Date</th>\n",
       "      <th>MovieName</th>\n",
       "      <th>ReleaseTime</th>\n",
       "      <th>Genre</th>\n",
       "      <th>Budget</th>\n",
       "      <th>BoxOfficeCollection</th>\n",
       "      <th>YoutubeViews</th>\n",
       "      <th>YoutubeLikes</th>\n",
       "      <th>YoutubeDislikes</th>\n",
       "    </tr>\n",
       "  </thead>\n",
       "  <tbody>\n",
       "    <tr>\n",
       "      <th>0</th>\n",
       "      <td>1</td>\n",
       "      <td>18-Apr-14</td>\n",
       "      <td>2 States</td>\n",
       "      <td>LW</td>\n",
       "      <td>Romance</td>\n",
       "      <td>36</td>\n",
       "      <td>104.00</td>\n",
       "      <td>8576361</td>\n",
       "      <td>26622</td>\n",
       "      <td>2527</td>\n",
       "    </tr>\n",
       "    <tr>\n",
       "      <th>1</th>\n",
       "      <td>2</td>\n",
       "      <td>4-Jan-13</td>\n",
       "      <td>Table No. 21</td>\n",
       "      <td>N</td>\n",
       "      <td>Thriller</td>\n",
       "      <td>10</td>\n",
       "      <td>12.00</td>\n",
       "      <td>1087320</td>\n",
       "      <td>1129</td>\n",
       "      <td>137</td>\n",
       "    </tr>\n",
       "    <tr>\n",
       "      <th>2</th>\n",
       "      <td>3</td>\n",
       "      <td>18-Jul-14</td>\n",
       "      <td>Amit Sahni Ki List</td>\n",
       "      <td>N</td>\n",
       "      <td>Comedy</td>\n",
       "      <td>10</td>\n",
       "      <td>4.00</td>\n",
       "      <td>572336</td>\n",
       "      <td>586</td>\n",
       "      <td>54</td>\n",
       "    </tr>\n",
       "    <tr>\n",
       "      <th>3</th>\n",
       "      <td>4</td>\n",
       "      <td>4-Jan-13</td>\n",
       "      <td>Rajdhani Express</td>\n",
       "      <td>N</td>\n",
       "      <td>Drama</td>\n",
       "      <td>7</td>\n",
       "      <td>0.35</td>\n",
       "      <td>42626</td>\n",
       "      <td>86</td>\n",
       "      <td>19</td>\n",
       "    </tr>\n",
       "    <tr>\n",
       "      <th>4</th>\n",
       "      <td>5</td>\n",
       "      <td>4-Jul-14</td>\n",
       "      <td>Bobby Jasoos</td>\n",
       "      <td>N</td>\n",
       "      <td>Comedy</td>\n",
       "      <td>18</td>\n",
       "      <td>10.80</td>\n",
       "      <td>3113427</td>\n",
       "      <td>4512</td>\n",
       "      <td>1224</td>\n",
       "    </tr>\n",
       "    <tr>\n",
       "      <th>5</th>\n",
       "      <td>6</td>\n",
       "      <td>30-May-14</td>\n",
       "      <td>Citylights</td>\n",
       "      <td>HS</td>\n",
       "      <td>Drama</td>\n",
       "      <td>7</td>\n",
       "      <td>35.00</td>\n",
       "      <td>1076591</td>\n",
       "      <td>1806</td>\n",
       "      <td>84</td>\n",
       "    </tr>\n",
       "    <tr>\n",
       "      <th>6</th>\n",
       "      <td>7</td>\n",
       "      <td>19-Sep-14</td>\n",
       "      <td>Daawat-E-Ishq</td>\n",
       "      <td>N</td>\n",
       "      <td>Comedy</td>\n",
       "      <td>30</td>\n",
       "      <td>24.60</td>\n",
       "      <td>3905050</td>\n",
       "      <td>8315</td>\n",
       "      <td>1373</td>\n",
       "    </tr>\n",
       "  </tbody>\n",
       "</table>\n",
       "</div>"
      ],
      "text/plain": [
       "   SlNo Release Date           MovieName ReleaseTime      Genre  Budget  \\\n",
       "0     1    18-Apr-14            2 States          LW    Romance      36   \n",
       "1     2     4-Jan-13        Table No. 21           N  Thriller       10   \n",
       "2     3    18-Jul-14  Amit Sahni Ki List           N     Comedy      10   \n",
       "3     4     4-Jan-13    Rajdhani Express           N     Drama        7   \n",
       "4     5     4-Jul-14        Bobby Jasoos           N     Comedy      18   \n",
       "5     6    30-May-14          Citylights          HS     Drama        7   \n",
       "6     7    19-Sep-14       Daawat-E-Ishq           N     Comedy      30   \n",
       "\n",
       "   BoxOfficeCollection  YoutubeViews  YoutubeLikes  YoutubeDislikes  \n",
       "0               104.00       8576361         26622             2527  \n",
       "1                12.00       1087320          1129              137  \n",
       "2                 4.00        572336           586               54  \n",
       "3                 0.35         42626            86               19  \n",
       "4                10.80       3113427          4512             1224  \n",
       "5                35.00       1076591          1806               84  \n",
       "6                24.60       3905050          8315             1373  "
      ]
     },
     "execution_count": 9,
     "metadata": {},
     "output_type": "execute_result"
    }
   ],
   "source": [
    "df=pd.read_csv('bollywood.csv')\n",
    "x=df.head(7)\n",
    "x"
   ]
  },
  {
   "cell_type": "code",
   "execution_count": 21,
   "id": "f2d35e9c",
   "metadata": {},
   "outputs": [
    {
     "data": {
      "text/html": [
       "<div>\n",
       "<style scoped>\n",
       "    .dataframe tbody tr th:only-of-type {\n",
       "        vertical-align: middle;\n",
       "    }\n",
       "\n",
       "    .dataframe tbody tr th {\n",
       "        vertical-align: top;\n",
       "    }\n",
       "\n",
       "    .dataframe thead th {\n",
       "        text-align: right;\n",
       "    }\n",
       "</style>\n",
       "<table border=\"1\" class=\"dataframe\">\n",
       "  <thead>\n",
       "    <tr style=\"text-align: right;\">\n",
       "      <th></th>\n",
       "      <th>SlNo</th>\n",
       "      <th>Release Date</th>\n",
       "      <th>MovieName</th>\n",
       "      <th>ReleaseTime</th>\n",
       "      <th>Genre</th>\n",
       "      <th>Budget</th>\n",
       "      <th>BoxOfficeCollection</th>\n",
       "      <th>YoutubeViews</th>\n",
       "      <th>YoutubeLikes</th>\n",
       "      <th>YoutubeDislikes</th>\n",
       "      <th>Month</th>\n",
       "      <th>ROI</th>\n",
       "    </tr>\n",
       "  </thead>\n",
       "  <tbody>\n",
       "    <tr>\n",
       "      <th>37</th>\n",
       "      <td>38</td>\n",
       "      <td>2014-07-11</td>\n",
       "      <td>Humpty Sharma Ki Dulhania</td>\n",
       "      <td>N</td>\n",
       "      <td>Romance</td>\n",
       "      <td>20</td>\n",
       "      <td>130.0</td>\n",
       "      <td>6604595</td>\n",
       "      <td>14535</td>\n",
       "      <td>2208</td>\n",
       "      <td>7</td>\n",
       "      <td>5.500000</td>\n",
       "    </tr>\n",
       "    <tr>\n",
       "      <th>56</th>\n",
       "      <td>57</td>\n",
       "      <td>2014-08-22</td>\n",
       "      <td>Mardaani</td>\n",
       "      <td>N</td>\n",
       "      <td>Drama</td>\n",
       "      <td>15</td>\n",
       "      <td>36.0</td>\n",
       "      <td>4376650</td>\n",
       "      <td>14408</td>\n",
       "      <td>1035</td>\n",
       "      <td>8</td>\n",
       "      <td>1.400000</td>\n",
       "    </tr>\n",
       "    <tr>\n",
       "      <th>100</th>\n",
       "      <td>101</td>\n",
       "      <td>2013-07-05</td>\n",
       "      <td>Policegiri</td>\n",
       "      <td>N</td>\n",
       "      <td>Action</td>\n",
       "      <td>30</td>\n",
       "      <td>16.8</td>\n",
       "      <td>1754266</td>\n",
       "      <td>1674</td>\n",
       "      <td>420</td>\n",
       "      <td>7</td>\n",
       "      <td>-0.440000</td>\n",
       "    </tr>\n",
       "    <tr>\n",
       "      <th>31</th>\n",
       "      <td>32</td>\n",
       "      <td>2013-02-15</td>\n",
       "      <td>Murder 3</td>\n",
       "      <td>FS</td>\n",
       "      <td>Thriller</td>\n",
       "      <td>12</td>\n",
       "      <td>25.0</td>\n",
       "      <td>2249055</td>\n",
       "      <td>1879</td>\n",
       "      <td>747</td>\n",
       "      <td>2</td>\n",
       "      <td>1.083333</td>\n",
       "    </tr>\n",
       "    <tr>\n",
       "      <th>134</th>\n",
       "      <td>135</td>\n",
       "      <td>2013-09-20</td>\n",
       "      <td>Phata Poster Nikla Hero</td>\n",
       "      <td>N</td>\n",
       "      <td>Drama</td>\n",
       "      <td>40</td>\n",
       "      <td>34.0</td>\n",
       "      <td>5176897</td>\n",
       "      <td>10672</td>\n",
       "      <td>1392</td>\n",
       "      <td>9</td>\n",
       "      <td>-0.150000</td>\n",
       "    </tr>\n",
       "    <tr>\n",
       "      <th>128</th>\n",
       "      <td>129</td>\n",
       "      <td>2013-10-18</td>\n",
       "      <td>Shahid</td>\n",
       "      <td>FS</td>\n",
       "      <td>Drama</td>\n",
       "      <td>6</td>\n",
       "      <td>40.0</td>\n",
       "      <td>1148516</td>\n",
       "      <td>3155</td>\n",
       "      <td>396</td>\n",
       "      <td>10</td>\n",
       "      <td>5.666667</td>\n",
       "    </tr>\n",
       "    <tr>\n",
       "      <th>110</th>\n",
       "      <td>111</td>\n",
       "      <td>2014-02-07</td>\n",
       "      <td>Hasee To Phansee</td>\n",
       "      <td>N</td>\n",
       "      <td>Romance</td>\n",
       "      <td>27</td>\n",
       "      <td>35.5</td>\n",
       "      <td>2543707</td>\n",
       "      <td>6390</td>\n",
       "      <td>975</td>\n",
       "      <td>2</td>\n",
       "      <td>0.314815</td>\n",
       "    </tr>\n",
       "    <tr>\n",
       "      <th>141</th>\n",
       "      <td>142</td>\n",
       "      <td>2015-02-06</td>\n",
       "      <td>Shamitabh</td>\n",
       "      <td>N</td>\n",
       "      <td>Drama</td>\n",
       "      <td>40</td>\n",
       "      <td>38.0</td>\n",
       "      <td>2105508</td>\n",
       "      <td>5599</td>\n",
       "      <td>677</td>\n",
       "      <td>2</td>\n",
       "      <td>-0.050000</td>\n",
       "    </tr>\n",
       "    <tr>\n",
       "      <th>138</th>\n",
       "      <td>139</td>\n",
       "      <td>2015-01-23</td>\n",
       "      <td>Baby</td>\n",
       "      <td>N</td>\n",
       "      <td>Action</td>\n",
       "      <td>60</td>\n",
       "      <td>125.0</td>\n",
       "      <td>7968156</td>\n",
       "      <td>29246</td>\n",
       "      <td>2426</td>\n",
       "      <td>1</td>\n",
       "      <td>1.083333</td>\n",
       "    </tr>\n",
       "    <tr>\n",
       "      <th>130</th>\n",
       "      <td>131</td>\n",
       "      <td>2013-09-06</td>\n",
       "      <td>Zanjeer</td>\n",
       "      <td>LW</td>\n",
       "      <td>Action</td>\n",
       "      <td>75</td>\n",
       "      <td>18.2</td>\n",
       "      <td>2539431</td>\n",
       "      <td>5634</td>\n",
       "      <td>922</td>\n",
       "      <td>9</td>\n",
       "      <td>-0.757333</td>\n",
       "    </tr>\n",
       "  </tbody>\n",
       "</table>\n",
       "</div>"
      ],
      "text/plain": [
       "     SlNo Release Date                  MovieName ReleaseTime     Genre  \\\n",
       "37     38   2014-07-11  Humpty Sharma Ki Dulhania           N   Romance   \n",
       "56     57   2014-08-22                   Mardaani           N    Drama    \n",
       "100   101   2013-07-05                 Policegiri           N    Action   \n",
       "31     32   2013-02-15                   Murder 3          FS  Thriller   \n",
       "134   135   2013-09-20    Phata Poster Nikla Hero           N    Drama    \n",
       "128   129   2013-10-18                     Shahid          FS    Drama    \n",
       "110   111   2014-02-07           Hasee To Phansee           N   Romance   \n",
       "141   142   2015-02-06                  Shamitabh           N    Drama    \n",
       "138   139   2015-01-23                       Baby           N    Action   \n",
       "130   131   2013-09-06                    Zanjeer          LW    Action   \n",
       "\n",
       "     Budget  BoxOfficeCollection  YoutubeViews  YoutubeLikes  YoutubeDislikes  \\\n",
       "37       20                130.0       6604595         14535             2208   \n",
       "56       15                 36.0       4376650         14408             1035   \n",
       "100      30                 16.8       1754266          1674              420   \n",
       "31       12                 25.0       2249055          1879              747   \n",
       "134      40                 34.0       5176897         10672             1392   \n",
       "128       6                 40.0       1148516          3155              396   \n",
       "110      27                 35.5       2543707          6390              975   \n",
       "141      40                 38.0       2105508          5599              677   \n",
       "138      60                125.0       7968156         29246             2426   \n",
       "130      75                 18.2       2539431          5634              922   \n",
       "\n",
       "     Month       ROI  \n",
       "37       7  5.500000  \n",
       "56       8  1.400000  \n",
       "100      7 -0.440000  \n",
       "31       2  1.083333  \n",
       "134      9 -0.150000  \n",
       "128     10  5.666667  \n",
       "110      2  0.314815  \n",
       "141      2 -0.050000  \n",
       "138      1  1.083333  \n",
       "130      9 -0.757333  "
      ]
     },
     "execution_count": 21,
     "metadata": {},
     "output_type": "execute_result"
    }
   ],
   "source": [
    "df.sample(10)"
   ]
  },
  {
   "cell_type": "code",
   "execution_count": null,
   "id": "31ed080c",
   "metadata": {},
   "outputs": [],
   "source": []
  },
  {
   "cell_type": "markdown",
   "id": "c1f1a6de",
   "metadata": {},
   "source": [
    "# How many records are present in the record"
   ]
  },
  {
   "cell_type": "code",
   "execution_count": 10,
   "id": "a79fe06f",
   "metadata": {},
   "outputs": [
    {
     "data": {
      "text/plain": [
       "149"
      ]
     },
     "execution_count": 10,
     "metadata": {},
     "output_type": "execute_result"
    }
   ],
   "source": [
    "df.shape[0]"
   ]
  },
  {
   "cell_type": "markdown",
   "id": "59641140",
   "metadata": {},
   "source": [
    "# How many movies got released in each genre? Which genre had highest number of releases? Sort number of releases in each genre in descending order."
   ]
  },
  {
   "cell_type": "code",
   "execution_count": 11,
   "id": "9e705106",
   "metadata": {},
   "outputs": [
    {
     "data": {
      "text/plain": [
       "Comedy       36\n",
       " Drama       35\n",
       "Thriller     26\n",
       "Romance      25\n",
       "Action       21\n",
       "Thriller      3\n",
       "Action        3\n",
       "Name: Genre, dtype: int64"
      ]
     },
     "execution_count": 11,
     "metadata": {},
     "output_type": "execute_result"
    }
   ],
   "source": [
    "df.Genre.value_counts()"
   ]
  },
  {
   "cell_type": "markdown",
   "id": "6db07bb4",
   "metadata": {},
   "source": [
    "# How many movies in each genre got released in different release times like long weekend, festive season, etc. (Note: Do a cross tabulation between Genre and ReleaseTime.)"
   ]
  },
  {
   "cell_type": "code",
   "execution_count": 12,
   "id": "a29e9c3e",
   "metadata": {},
   "outputs": [
    {
     "data": {
      "text/html": [
       "<div>\n",
       "<style scoped>\n",
       "    .dataframe tbody tr th:only-of-type {\n",
       "        vertical-align: middle;\n",
       "    }\n",
       "\n",
       "    .dataframe tbody tr th {\n",
       "        vertical-align: top;\n",
       "    }\n",
       "\n",
       "    .dataframe thead th {\n",
       "        text-align: right;\n",
       "    }\n",
       "</style>\n",
       "<table border=\"1\" class=\"dataframe\">\n",
       "  <thead>\n",
       "    <tr style=\"text-align: right;\">\n",
       "      <th>ReleaseTime</th>\n",
       "      <th>FS</th>\n",
       "      <th>HS</th>\n",
       "      <th>LW</th>\n",
       "      <th>N</th>\n",
       "    </tr>\n",
       "    <tr>\n",
       "      <th>Genre</th>\n",
       "      <th></th>\n",
       "      <th></th>\n",
       "      <th></th>\n",
       "      <th></th>\n",
       "    </tr>\n",
       "  </thead>\n",
       "  <tbody>\n",
       "    <tr>\n",
       "      <th>Drama</th>\n",
       "      <td>4</td>\n",
       "      <td>6</td>\n",
       "      <td>1</td>\n",
       "      <td>24</td>\n",
       "    </tr>\n",
       "    <tr>\n",
       "      <th>Action</th>\n",
       "      <td>3</td>\n",
       "      <td>3</td>\n",
       "      <td>3</td>\n",
       "      <td>12</td>\n",
       "    </tr>\n",
       "    <tr>\n",
       "      <th>Action</th>\n",
       "      <td>0</td>\n",
       "      <td>0</td>\n",
       "      <td>0</td>\n",
       "      <td>3</td>\n",
       "    </tr>\n",
       "    <tr>\n",
       "      <th>Comedy</th>\n",
       "      <td>3</td>\n",
       "      <td>5</td>\n",
       "      <td>5</td>\n",
       "      <td>23</td>\n",
       "    </tr>\n",
       "    <tr>\n",
       "      <th>Romance</th>\n",
       "      <td>3</td>\n",
       "      <td>3</td>\n",
       "      <td>4</td>\n",
       "      <td>15</td>\n",
       "    </tr>\n",
       "    <tr>\n",
       "      <th>Thriller</th>\n",
       "      <td>4</td>\n",
       "      <td>1</td>\n",
       "      <td>1</td>\n",
       "      <td>20</td>\n",
       "    </tr>\n",
       "    <tr>\n",
       "      <th>Thriller</th>\n",
       "      <td>0</td>\n",
       "      <td>0</td>\n",
       "      <td>1</td>\n",
       "      <td>2</td>\n",
       "    </tr>\n",
       "  </tbody>\n",
       "</table>\n",
       "</div>"
      ],
      "text/plain": [
       "ReleaseTime  FS  HS  LW   N\n",
       "Genre                      \n",
       " Drama        4   6   1  24\n",
       "Action        3   3   3  12\n",
       "Action        0   0   0   3\n",
       "Comedy        3   5   5  23\n",
       "Romance       3   3   4  15\n",
       "Thriller      4   1   1  20\n",
       "Thriller      0   0   1   2"
      ]
     },
     "execution_count": 12,
     "metadata": {},
     "output_type": "execute_result"
    }
   ],
   "source": [
    "pd.crosstab(df.Genre,df.ReleaseTime)"
   ]
  },
  {
   "cell_type": "markdown",
   "id": "959564e2",
   "metadata": {},
   "source": [
    "# Which month of the year, maximum number movie releases are seen? (Note: Extract a new column called month from ReleaseDate column.)"
   ]
  },
  {
   "cell_type": "code",
   "execution_count": 13,
   "id": "6f78aa28",
   "metadata": {},
   "outputs": [
    {
     "data": {
      "text/plain": [
       "1     20\n",
       "3     19\n",
       "5     18\n",
       "7     16\n",
       "2     16\n",
       "4     11\n",
       "9     10\n",
       "6     10\n",
       "11    10\n",
       "10     9\n",
       "8      8\n",
       "12     2\n",
       "Name: Month, dtype: int64"
      ]
     },
     "execution_count": 13,
     "metadata": {},
     "output_type": "execute_result"
    }
   ],
   "source": [
    "df['Release Date']=pd.to_datetime(df['Release Date'])\n",
    "df['Month']=df['Release Date'].dt.month\n",
    "df.Month.value_counts()"
   ]
  },
  {
   "cell_type": "markdown",
   "id": "10e48963",
   "metadata": {},
   "source": [
    "# Which month of the year typically sees most releases of high budgeted movies, that is, movies with budget of 25 crore or more?"
   ]
  },
  {
   "cell_type": "code",
   "execution_count": 14,
   "id": "11d1921d",
   "metadata": {},
   "outputs": [
    {
     "data": {
      "text/plain": [
       "2     9\n",
       "1     8\n",
       "3     7\n",
       "8     7\n",
       "11    6\n",
       "7     6\n",
       "9     5\n",
       "6     5\n",
       "4     4\n",
       "10    4\n",
       "5     3\n",
       "12    2\n",
       "Name: Release Date, dtype: int64"
      ]
     },
     "execution_count": 14,
     "metadata": {},
     "output_type": "execute_result"
    }
   ],
   "source": [
    "df[df.Budget>=25]['Release Date'].dt.month.value_counts()"
   ]
  },
  {
   "cell_type": "markdown",
   "id": "5d491693",
   "metadata": {},
   "source": [
    "# Which are the top 10 movies with maximum return on investment (ROI)? Calculate return on investment (ROI) as (BoxOfficeCollection – Budget) / Budget."
   ]
  },
  {
   "cell_type": "code",
   "execution_count": 15,
   "id": "0e794ce2",
   "metadata": {},
   "outputs": [
    {
     "data": {
      "text/plain": [
       "9                 Gangoobai\n",
       "15                  Bandook\n",
       "53                 Sona Spa\n",
       "3          Rajdhani Express\n",
       "49     Kya Dilli Kya Lahore\n",
       "121                 Satya 2\n",
       "67             Purani Jeans\n",
       "103          Samrat and Co.\n",
       "30                Heartless\n",
       "102                 Kaanchi\n",
       "Name: MovieName, dtype: object"
      ]
     },
     "execution_count": 15,
     "metadata": {},
     "output_type": "execute_result"
    }
   ],
   "source": [
    "df['ROI']=(df.BoxOfficeCollection-df.Budget)/df.Budget\n",
    "df.sort_values(by='ROI').MovieName[0:10]"
   ]
  },
  {
   "cell_type": "markdown",
   "id": "e8ebaff0",
   "metadata": {},
   "source": [
    "# Do the movies have higher ROI if they get released on festive seasons or long weekend? Calculate the average ROI for different release times."
   ]
  },
  {
   "cell_type": "code",
   "execution_count": 16,
   "id": "513e0f8f",
   "metadata": {},
   "outputs": [
    {
     "data": {
      "text/plain": [
       "ReleaseTime\n",
       "FS    0.973853\n",
       "HS    0.850867\n",
       "LW    1.127205\n",
       "N     0.657722\n",
       "Name: ROI, dtype: float64"
      ]
     },
     "execution_count": 16,
     "metadata": {},
     "output_type": "execute_result"
    }
   ],
   "source": [
    "df.groupby(by='ReleaseTime').ROI.mean()"
   ]
  },
  {
   "cell_type": "markdown",
   "id": "0b877f65",
   "metadata": {},
   "source": [
    "# Is there a correlation between box office collection and YouTube likes? Is the correlation positive or negative?"
   ]
  },
  {
   "cell_type": "code",
   "execution_count": 17,
   "id": "84b2c199",
   "metadata": {},
   "outputs": [
    {
     "data": {
      "text/html": [
       "<div>\n",
       "<style scoped>\n",
       "    .dataframe tbody tr th:only-of-type {\n",
       "        vertical-align: middle;\n",
       "    }\n",
       "\n",
       "    .dataframe tbody tr th {\n",
       "        vertical-align: top;\n",
       "    }\n",
       "\n",
       "    .dataframe thead th {\n",
       "        text-align: right;\n",
       "    }\n",
       "</style>\n",
       "<table border=\"1\" class=\"dataframe\">\n",
       "  <thead>\n",
       "    <tr style=\"text-align: right;\">\n",
       "      <th></th>\n",
       "      <th>BoxOfficeCollection</th>\n",
       "      <th>YoutubeLikes</th>\n",
       "    </tr>\n",
       "  </thead>\n",
       "  <tbody>\n",
       "    <tr>\n",
       "      <th>BoxOfficeCollection</th>\n",
       "      <td>1.000000</td>\n",
       "      <td>0.682517</td>\n",
       "    </tr>\n",
       "    <tr>\n",
       "      <th>YoutubeLikes</th>\n",
       "      <td>0.682517</td>\n",
       "      <td>1.000000</td>\n",
       "    </tr>\n",
       "  </tbody>\n",
       "</table>\n",
       "</div>"
      ],
      "text/plain": [
       "                     BoxOfficeCollection  YoutubeLikes\n",
       "BoxOfficeCollection             1.000000      0.682517\n",
       "YoutubeLikes                    0.682517      1.000000"
      ]
     },
     "execution_count": 17,
     "metadata": {},
     "output_type": "execute_result"
    }
   ],
   "source": [
    "corr=df[['BoxOfficeCollection','YoutubeLikes']].corr()\n",
    "corr"
   ]
  },
  {
   "cell_type": "markdown",
   "id": "1fad1b40",
   "metadata": {},
   "source": [
    "# Which genre of movies typically sees more YouTube likes? Draw boxplots for each genre of movies to compare."
   ]
  },
  {
   "cell_type": "code",
   "execution_count": 18,
   "id": "f8449210",
   "metadata": {},
   "outputs": [
    {
     "data": {
      "text/plain": [
       "<AxesSubplot:xlabel='Genre', ylabel='YoutubeLikes'>"
      ]
     },
     "execution_count": 18,
     "metadata": {},
     "output_type": "execute_result"
    },
    {
     "data": {
      "image/png": "[encoded data removed]",
      "text/plain": [
       "<Figure size 432x288 with 1 Axes>"
      ]
     },
     "metadata": {
      "needs_background": "light"
     },
     "output_type": "display_data"
    }
   ],
   "source": [
    "sns.boxplot(x='Genre',y='YoutubeLikes',data=df)"
   ]
  },
  {
   "cell_type": "markdown",
   "id": "a3c0601e",
   "metadata": {},
   "source": [
    "# Which of the variables among Budget, BoxOfficeCollection, YoutubeView, YoutubeLikes, YoutubeDislikes are highly correlated? Note: Draw pair plot or heatmap."
   ]
  },
  {
   "cell_type": "code",
   "execution_count": 19,
   "id": "a7cf64cb",
   "metadata": {},
   "outputs": [
    {
     "data": {
      "text/plain": [
       "<AxesSubplot:>"
      ]
     },
     "execution_count": 19,
     "metadata": {},
     "output_type": "execute_result"
    },
    {
     "data": {
      "image/png": "[encoded data removed]",
      "text/plain": [
       "<Figure size 432x288 with 2 Axes>"
      ]
     },
     "metadata": {
      "needs_background": "light"
     },
     "output_type": "display_data"
    }
   ],
   "source": [
    "corr=df[['Budget','BoxOfficeCollection','YoutubeViews','YoutubeLikes','YoutubeDislikes']].corr()\n",
    "sns.heatmap(corr,annot=True)"
   ]
  },
  {
   "cell_type": "code",
   "execution_count": 20,
   "id": "165125e5",
   "metadata": {},
   "outputs": [
    {
     "data": {
      "text/html": [
       "<div>\n",
       "<style scoped>\n",
       "    .dataframe tbody tr th:only-of-type {\n",
       "        vertical-align: middle;\n",
       "    }\n",
       "\n",
       "    .dataframe tbody tr th {\n",
       "        vertical-align: top;\n",
       "    }\n",
       "\n",
       "    .dataframe thead th {\n",
       "        text-align: right;\n",
       "    }\n",
       "</style>\n",
       "<table border=\"1\" class=\"dataframe\">\n",
       "  <thead>\n",
       "    <tr style=\"text-align: right;\">\n",
       "      <th></th>\n",
       "      <th>SlNo</th>\n",
       "      <th>Release Date</th>\n",
       "      <th>MovieName</th>\n",
       "      <th>ReleaseTime</th>\n",
       "      <th>Genre</th>\n",
       "      <th>Budget</th>\n",
       "      <th>BoxOfficeCollection</th>\n",
       "      <th>YoutubeViews</th>\n",
       "      <th>YoutubeLikes</th>\n",
       "      <th>YoutubeDislikes</th>\n",
       "      <th>Month</th>\n",
       "      <th>ROI</th>\n",
       "    </tr>\n",
       "  </thead>\n",
       "  <tbody>\n",
       "    <tr>\n",
       "      <th>70</th>\n",
       "      <td>71</td>\n",
       "      <td>2013-05-03</td>\n",
       "      <td>Bombay Talkies</td>\n",
       "      <td>N</td>\n",
       "      <td>Drama</td>\n",
       "      <td>6</td>\n",
       "      <td>14.30</td>\n",
       "      <td>1528538</td>\n",
       "      <td>2766</td>\n",
       "      <td>328</td>\n",
       "      <td>5</td>\n",
       "      <td>1.383333</td>\n",
       "    </tr>\n",
       "    <tr>\n",
       "      <th>31</th>\n",
       "      <td>32</td>\n",
       "      <td>2013-02-15</td>\n",
       "      <td>Murder 3</td>\n",
       "      <td>FS</td>\n",
       "      <td>Thriller</td>\n",
       "      <td>12</td>\n",
       "      <td>25.00</td>\n",
       "      <td>2249055</td>\n",
       "      <td>1879</td>\n",
       "      <td>747</td>\n",
       "      <td>2</td>\n",
       "      <td>1.083333</td>\n",
       "    </tr>\n",
       "    <tr>\n",
       "      <th>140</th>\n",
       "      <td>141</td>\n",
       "      <td>2015-01-30</td>\n",
       "      <td>Khamoshiyan</td>\n",
       "      <td>N</td>\n",
       "      <td>Thriller</td>\n",
       "      <td>11</td>\n",
       "      <td>14.02</td>\n",
       "      <td>3094001</td>\n",
       "      <td>4599</td>\n",
       "      <td>997</td>\n",
       "      <td>1</td>\n",
       "      <td>0.274545</td>\n",
       "    </tr>\n",
       "    <tr>\n",
       "      <th>25</th>\n",
       "      <td>26</td>\n",
       "      <td>2013-02-08</td>\n",
       "      <td>Special 26</td>\n",
       "      <td>N</td>\n",
       "      <td>Drama</td>\n",
       "      <td>42</td>\n",
       "      <td>103.00</td>\n",
       "      <td>1829417</td>\n",
       "      <td>6248</td>\n",
       "      <td>568</td>\n",
       "      <td>2</td>\n",
       "      <td>1.452381</td>\n",
       "    </tr>\n",
       "    <tr>\n",
       "      <th>65</th>\n",
       "      <td>66</td>\n",
       "      <td>2014-03-28</td>\n",
       "      <td>O Teri</td>\n",
       "      <td>N</td>\n",
       "      <td>Comedy</td>\n",
       "      <td>21</td>\n",
       "      <td>3.75</td>\n",
       "      <td>1511318</td>\n",
       "      <td>3004</td>\n",
       "      <td>278</td>\n",
       "      <td>3</td>\n",
       "      <td>-0.821429</td>\n",
       "    </tr>\n",
       "    <tr>\n",
       "      <th>50</th>\n",
       "      <td>51</td>\n",
       "      <td>2014-07-04</td>\n",
       "      <td>Lekar Hum Deewana Dil</td>\n",
       "      <td>N</td>\n",
       "      <td>Romance</td>\n",
       "      <td>16</td>\n",
       "      <td>2.50</td>\n",
       "      <td>3998331</td>\n",
       "      <td>2307</td>\n",
       "      <td>497</td>\n",
       "      <td>7</td>\n",
       "      <td>-0.843750</td>\n",
       "    </tr>\n",
       "    <tr>\n",
       "      <th>90</th>\n",
       "      <td>91</td>\n",
       "      <td>2013-06-21</td>\n",
       "      <td>Raanjhanaa</td>\n",
       "      <td>N</td>\n",
       "      <td>Romance</td>\n",
       "      <td>35</td>\n",
       "      <td>100.00</td>\n",
       "      <td>5470632</td>\n",
       "      <td>12413</td>\n",
       "      <td>1018</td>\n",
       "      <td>6</td>\n",
       "      <td>1.857143</td>\n",
       "    </tr>\n",
       "    <tr>\n",
       "      <th>98</th>\n",
       "      <td>99</td>\n",
       "      <td>2014-07-18</td>\n",
       "      <td>Pizza 3D</td>\n",
       "      <td>N</td>\n",
       "      <td>Thriller</td>\n",
       "      <td>10</td>\n",
       "      <td>4.35</td>\n",
       "      <td>838943</td>\n",
       "      <td>1116</td>\n",
       "      <td>153</td>\n",
       "      <td>7</td>\n",
       "      <td>-0.565000</td>\n",
       "    </tr>\n",
       "    <tr>\n",
       "      <th>106</th>\n",
       "      <td>107</td>\n",
       "      <td>2014-03-14</td>\n",
       "      <td>Bewakoofiyan</td>\n",
       "      <td>FS</td>\n",
       "      <td>Romance</td>\n",
       "      <td>22</td>\n",
       "      <td>14.00</td>\n",
       "      <td>2850376</td>\n",
       "      <td>4764</td>\n",
       "      <td>1068</td>\n",
       "      <td>3</td>\n",
       "      <td>-0.363636</td>\n",
       "    </tr>\n",
       "    <tr>\n",
       "      <th>76</th>\n",
       "      <td>77</td>\n",
       "      <td>2013-05-17</td>\n",
       "      <td>Aurangzeb</td>\n",
       "      <td>N</td>\n",
       "      <td>Drama</td>\n",
       "      <td>20</td>\n",
       "      <td>23.00</td>\n",
       "      <td>1901503</td>\n",
       "      <td>3394</td>\n",
       "      <td>754</td>\n",
       "      <td>5</td>\n",
       "      <td>0.150000</td>\n",
       "    </tr>\n",
       "  </tbody>\n",
       "</table>\n",
       "</div>"
      ],
      "text/plain": [
       "     SlNo Release Date              MovieName ReleaseTime     Genre  Budget  \\\n",
       "70     71   2013-05-03         Bombay Talkies           N    Drama        6   \n",
       "31     32   2013-02-15               Murder 3          FS  Thriller      12   \n",
       "140   141   2015-01-30            Khamoshiyan           N  Thriller      11   \n",
       "25     26   2013-02-08             Special 26           N    Drama       42   \n",
       "65     66   2014-03-28                 O Teri           N    Comedy      21   \n",
       "50     51   2014-07-04  Lekar Hum Deewana Dil           N   Romance      16   \n",
       "90     91   2013-06-21             Raanjhanaa           N   Romance      35   \n",
       "98     99   2014-07-18               Pizza 3D           N  Thriller      10   \n",
       "106   107   2014-03-14           Bewakoofiyan          FS   Romance      22   \n",
       "76     77   2013-05-17              Aurangzeb           N    Drama       20   \n",
       "\n",
       "     BoxOfficeCollection  YoutubeViews  YoutubeLikes  YoutubeDislikes  Month  \\\n",
       "70                 14.30       1528538          2766              328      5   \n",
       "31                 25.00       2249055          1879              747      2   \n",
       "140                14.02       3094001          4599              997      1   \n",
       "25                103.00       1829417          6248              568      2   \n",
       "65                  3.75       1511318          3004              278      3   \n",
       "50                  2.50       3998331          2307              497      7   \n",
       "90                100.00       5470632         12413             1018      6   \n",
       "98                  4.35        838943          1116              153      7   \n",
       "106                14.00       2850376          4764             1068      3   \n",
       "76                 23.00       1901503          3394              754      5   \n",
       "\n",
       "          ROI  \n",
       "70   1.383333  \n",
       "31   1.083333  \n",
       "140  0.274545  \n",
       "25   1.452381  \n",
       "65  -0.821429  \n",
       "50  -0.843750  \n",
       "90   1.857143  \n",
       "98  -0.565000  \n",
       "106 -0.363636  \n",
       "76   0.150000  "
      ]
     },
     "execution_count": 20,
     "metadata": {},
     "output_type": "execute_result"
    }
   ],
   "source": [
    "df.sample(10)"
   ]
  },
  {
   "cell_type": "code",
   "execution_count": null,
   "id": "b83ec743",
   "metadata": {},
   "outputs": [],
   "source": []
  }
 ],
 "metadata": {
  "kernelspec": {
   "display_name": "Python 3 (ipykernel)",
   "language": "python",
   "name": "python3"
  },
  "language_info": {
   "codemirror_mode": {
    "name": "ipython",
    "version": 3
   },
   "file_extension": ".py",
   "mimetype": "text/x-python",
   "name": "python",
   "nbconvert_exporter": "python",
   "pygments_lexer": "ipython3",
   "version": "3.9.12"
  }
 },
 "nbformat": 4,
 "nbformat_minor": 5
}
