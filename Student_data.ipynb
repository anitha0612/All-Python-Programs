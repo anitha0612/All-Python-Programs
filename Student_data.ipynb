{
 "cells": [
  {
   "cell_type": "code",
   "execution_count": 3,
   "id": "39f813e3",
   "metadata": {},
   "outputs": [
    {
     "name": "stdout",
     "output_type": "stream",
     "text": [
      "    Roll no      Name  English Maths  Biology Social   Physics  Telugu  Total  \\\n",
      "0         1      Usha       86    99       94      96       93      86    554   \n",
      "1         2    Anitha       77    98       76      98       77      84    510   \n",
      "2         4     priya       54    33       55      65       88      88    383   \n",
      "3         5    murali       67    67       98      88       64      99    483   \n",
      "4         6     shiva       55    87       56      66       45      78    387   \n",
      "5         7   kalyani       67    65       78      45       56      75    494   \n",
      "6         8     Kavya       33    78       76      52       67      89    395   \n",
      "7         9      Hema       77    84       78      54       78      56    427   \n",
      "8        10     Prami       44    76       88      43       64      44    359   \n",
      "9        11     Lucky       34    32       93      34       34      75    302   \n",
      "10       12  Susmitha       66    89       56      32       33      76    352   \n",
      "11       13      Teju       79    89       33      43       67      98    409   \n",
      "12       14    varsha       98    87       23      54       89      98    449   \n",
      "13       15    vaishu       63    67       45      66       33      89    363   \n",
      "14       16       uma       80    95       23      87       65      87    437   \n",
      "15       17    urmila       50    88       22      76       67      78    381   \n",
      "16       18     Radha       78    77       23      56       78      66    378   \n",
      "17       19      Syam       87    ab       21      43       89      45    285   \n",
      "18       20     Suhas       45    89       34      ab       43      34    245   \n",
      "\n",
      "          District School Result         Mandal       Village Gender  \n",
      "0       Srikakulam   Govt   Pass        Ponduru      Kinthali      F  \n",
      "1            Vizag    PVT   Pass       AK palli     Pudivalsa      F  \n",
      "2    Vizayanagaram    PVT   Pass      Vanapalli      Ap valsa      F  \n",
      "3   East Godhavari   Govt   Pass          rajam     Kazi peta      F  \n",
      "4   West Godhavari   Govt   Pass      Annavaram       Singuru      M  \n",
      "5         Prakasam   Govt   Pass  Narasannapeta       Tholapi      F  \n",
      "6           Ongolu   Govt   Pass        Ponduru  Alamaji peta      F  \n",
      "7           Kadapa    PVT   Pass       Etcherla  Dhalla valsa      F  \n",
      "8       Ananthapur    PVT   Pass        Krishna        Ragolu      M  \n",
      "9          Chitoor    PVT   Pass         Kammam  Bhavaji peta      M  \n",
      "10      Srikakulam    PVT   Pass         Ongolu    Singupuram      F  \n",
      "11           Vizag   Govt   Pass     Srikakulam       PP Padu      F  \n",
      "12  East Godhavari   Govt   Pass          Rajam      Kinthali      F  \n",
      "13  West Godhavari   Govt   Pass        Ponduru       ponduru      F  \n",
      "14        Prakasam   Govt   Pass       AK palli       Tholapi      F  \n",
      "15          Ongolu   Govt   Pass      Annavaram        Ragolu      F  \n",
      "16      Ananthapur   Govt   Pass        Ponduru  Bhavaji peta      F  \n",
      "17         Chitoor   Govt   Fail       Etcherla    Singupuram      M  \n",
      "18      Srikakulam    PVT   Fail      Annavaram      Kinthali      M  \n"
     ]
    }
   ],
   "source": [
    "import pandas as pd\n",
    "df=pd.read_csv(\"Student_data.csv\")\n",
    "print(df)"
   ]
  },
  {
   "cell_type": "code",
   "execution_count": 4,
   "id": "fc208326",
   "metadata": {},
   "outputs": [
    {
     "name": "stdout",
     "output_type": "stream",
     "text": [
      "18    Suhas\n",
      "Name: Name, dtype: object\n"
     ]
    }
   ],
   "source": [
    "f=df[\"Name\"][df[\"Telugu\"]<=35]\n",
    "print(f)"
   ]
  },
  {
   "cell_type": "code",
   "execution_count": 5,
   "id": "526c16be",
   "metadata": {},
   "outputs": [
    {
     "name": "stdout",
     "output_type": "stream",
     "text": [
      "6    Kavya\n",
      "9    Lucky\n",
      "Name: Name, dtype: object\n"
     ]
    }
   ],
   "source": [
    "f=df[\"Name\"][df[\"English\"]<=35]\n",
    "print(f)"
   ]
  },
  {
   "cell_type": "code",
   "execution_count": 6,
   "id": "c3229ca5",
   "metadata": {},
   "outputs": [
    {
     "name": "stdout",
     "output_type": "stream",
     "text": [
      "9        Lucky\n",
      "10    Susmitha\n",
      "13      vaishu\n",
      "Name: Name, dtype: object\n"
     ]
    }
   ],
   "source": [
    "f=df[\"Name\"][df[\"Physics\"]<=35]\n",
    "print(f)"
   ]
  },
  {
   "cell_type": "code",
   "execution_count": 10,
   "id": "fc0e88ee",
   "metadata": {},
   "outputs": [
    {
     "name": "stdout",
     "output_type": "stream",
     "text": [
      "18    Suhas\n",
      "Name: Name, dtype: object\n"
     ]
    }
   ],
   "source": [
    "f=df[\"Name\"][df[\"Telugu\"]<=35]\n",
    "print(f)"
   ]
  },
  {
   "cell_type": "code",
   "execution_count": null,
   "id": "3771a765",
   "metadata": {},
   "outputs": [],
   "source": []
  }
 ],
 "metadata": {
  "kernelspec": {
   "display_name": "Python 3 (ipykernel)",
   "language": "python",
   "name": "python3"
  },
  "language_info": {
   "codemirror_mode": {
    "name": "ipython",
    "version": 3
   },
   "file_extension": ".py",
   "mimetype": "text/x-python",
   "name": "python",
   "nbconvert_exporter": "python",
   "pygments_lexer": "ipython3",
   "version": "3.9.12"
  }
 },
 "nbformat": 4,
 "nbformat_minor": 5
}
