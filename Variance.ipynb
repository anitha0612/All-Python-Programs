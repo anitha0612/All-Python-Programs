{
 "cells": [
  {
   "cell_type": "code",
   "execution_count": 1,
   "id": "15a66a91",
   "metadata": {},
   "outputs": [
    {
     "name": "stdout",
     "output_type": "stream",
     "text": [
      "0      3\n",
      "1      6\n",
      "2    122\n",
      "3      8\n",
      "4      6\n",
      "dtype: int64\n"
     ]
    }
   ],
   "source": [
    "import pandas as pd\n",
    "a=pd.Series([3,6,122,8,6])\n",
    "print(a)"
   ]
  },
  {
   "cell_type": "code",
   "execution_count": 2,
   "id": "1e0916be",
   "metadata": {},
   "outputs": [
    {
     "name": "stdout",
     "output_type": "stream",
     "text": [
      "Mean= 29.0\n"
     ]
    }
   ],
   "source": [
    "print(\"Mean=\",a.mean())"
   ]
  },
  {
   "cell_type": "code",
   "execution_count": 3,
   "id": "0764a2b2",
   "metadata": {},
   "outputs": [
    {
     "name": "stdout",
     "output_type": "stream",
     "text": [
      "Median= 6.0\n"
     ]
    }
   ],
   "source": [
    "print(\"Median=\",a.median())"
   ]
  },
  {
   "cell_type": "code",
   "execution_count": 4,
   "id": "5abc63d7",
   "metadata": {},
   "outputs": [
    {
     "name": "stdout",
     "output_type": "stream",
     "text": [
      "Mode= 0    6\n",
      "dtype: int64\n"
     ]
    }
   ],
   "source": [
    "print(\"Mode=\",a.mode())"
   ]
  },
  {
   "cell_type": "code",
   "execution_count": 5,
   "id": "89299943",
   "metadata": {},
   "outputs": [
    {
     "name": "stdout",
     "output_type": "stream",
     "text": [
      "Variance= 2706.0\n"
     ]
    }
   ],
   "source": [
    "print(\"Variance=\",a.var())"
   ]
  },
  {
   "cell_type": "code",
   "execution_count": 6,
   "id": "70c5dbec",
   "metadata": {},
   "outputs": [
    {
     "name": "stdout",
     "output_type": "stream",
     "text": [
      "Standard Deviation= 52.01922721455981\n"
     ]
    }
   ],
   "source": [
    "print(\"Standard Deviation=\",a.std())"
   ]
  },
  {
   "cell_type": "code",
   "execution_count": 9,
   "id": "23bc9587",
   "metadata": {},
   "outputs": [
    {
     "data": {
      "image/png": "[encoded data removed]",
      "text/plain": [
       "<Figure size 432x288 with 1 Axes>"
      ]
     },
     "metadata": {
      "needs_background": "light"
     },
     "output_type": "display_data"
    }
   ],
   "source": [
    "import matplotlib.pyplot as plt\n",
    "a=[3,6,12,8,6]\n",
    "values=[7,6,6,11,3.316]\n",
    "plt.bar(a,values,color='purple')\n",
    "plt.title('Array values Vs Values')\n",
    "plt.xlabel('a')\n",
    "plt.ylabel('values')\n",
    "plt.show()"
   ]
  },
  {
   "cell_type": "code",
   "execution_count": null,
   "id": "9335ea1c",
   "metadata": {},
   "outputs": [],
   "source": []
  }
 ],
 "metadata": {
  "kernelspec": {
   "display_name": "Python 3 (ipykernel)",
   "language": "python",
   "name": "python3"
  },
  "language_info": {
   "codemirror_mode": {
    "name": "ipython",
    "version": 3
   },
   "file_extension": ".py",
   "mimetype": "text/x-python",
   "name": "python",
   "nbconvert_exporter": "python",
   "pygments_lexer": "ipython3",
   "version": "3.9.12"
  }
 },
 "nbformat": 4,
 "nbformat_minor": 5
}
