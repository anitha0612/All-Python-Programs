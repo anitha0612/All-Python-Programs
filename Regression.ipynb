{
 "cells": [
  {
   "cell_type": "markdown",
   "id": "6a362b4d",
   "metadata": {},
   "source": [
    "# Linear Regression"
   ]
  },
  {
   "cell_type": "code",
   "execution_count": null,
   "id": "f2750b21",
   "metadata": {},
   "outputs": [],
   "source": []
  },
  {
   "cell_type": "markdown",
   "id": "4be0e76b",
   "metadata": {},
   "source": [
    "# Multiple Regression"
   ]
  },
  {
   "cell_type": "code",
   "execution_count": 1,
   "id": "76b88136",
   "metadata": {},
   "outputs": [
    {
     "name": "stdout",
     "output_type": "stream",
     "text": [
      "coefficient of determination:0.853341923092924\n",
      "intercept:4.141764910801051\n",
      "coefficients:[ 0.62090721 -0.04416861]\n",
      "predicted response:\n",
      "[ 4.0975963   7.20213234 13.36703581 19.44360206 25.82934856 31.42006014\n",
      " 36.78992868 39.85029611]\n",
      "predicted response:\n",
      "[ 4.0975963   7.20213234 13.36703581 19.44360206 25.82934856 31.42006014\n",
      " 36.78992868 39.85029611]\n"
     ]
    }
   ],
   "source": [
    "import numpy as np\n",
    "from sklearn.linear_model import LinearRegression\n",
    "x=[[0,1],[5,1],[15,2],[25,5],[35,1],[45,15],[55,34],[60,35]]\n",
    "y=[4,5,20,14,32,22,38,43]\n",
    "x,y=np.array(x),np.array(y)\n",
    "model=LinearRegression().fit(x,y)\n",
    "r_sq=model.score(x,y)\n",
    "print(f\"coefficient of determination:{r_sq}\")\n",
    "print(f\"intercept:{model.intercept_}\")\n",
    "print(f\"coefficients:{model.coef_}\")\n",
    "y_pred=model.predict(x)\n",
    "print(f\"predicted response:\\n{y_pred}\")\n",
    "y_pred=model.intercept_+np.sum(model.coef_*x,axis=1)\n",
    "print(f\"predicted response:\\n{y_pred}\")\n",
    "x_new=np.arange(10).reshape((-1,2))\n",
    "y_new=model.predict(x_new)"
   ]
  },
  {
   "cell_type": "markdown",
   "id": "f234d43c",
   "metadata": {},
   "source": [
    "# Polynomial Regression"
   ]
  },
  {
   "cell_type": "code",
   "execution_count": 25,
   "id": "735e46f4",
   "metadata": {},
   "outputs": [
    {
     "name": "stdout",
     "output_type": "stream",
     "text": [
      "coefficient of determination:0.8908516262498563\n",
      "intercept:21.372321428571453\n",
      "coefficients:[-1.32357143  0.02839286]\n",
      "coefficient of determination:0.8908516262498563\n",
      "intercept:0.0\n",
      "coefficients:[21.37232143 -1.32357143  0.02839286]\n",
      "Predicted response:\n",
      "[15.46428571  7.90714286  6.02857143  9.82857143 19.30714286 34.46428571]\n"
     ]
    }
   ],
   "source": [
    "import numpy as np\n",
    "from sklearn.linear_model import LinearRegression\n",
    "from sklearn.preprocessing import PolynomialFeatures\n",
    "x=np.array([5,15,25,35,45,55]).reshape((-1,1))\n",
    "y=np.array([15,11,2,8,25,32])\n",
    "transformer=PolynomialFeatures(degree=2,include_bias=False)\n",
    "transformer.fit(x,y)\n",
    "x_=transformer.transform(x)\n",
    "model=LinearRegression().fit(x_,y)\n",
    "print(f\"coefficient of determination:{r_sq}\")\n",
    "print(f\"intercept:{model.intercept_}\")\n",
    "print(f\"coefficients:{model.coef_}\")\n",
    "x_=PolynomialFeatures(degree=2,include_bias=True).fit_transform(x)\n",
    "model=LinearRegression(fit_intercept=False).fit(x_,y)\n",
    "r_sq=model.score(x_,y)\n",
    "print(f\"coefficient of determination:{r_sq}\")\n",
    "print(f\"intercept:{model.intercept_}\")\n",
    "print(f\"coefficients:{model.coef_}\")\n",
    "y_pred=model.predict(x_)\n",
    "print(f\"Predicted response:\\n{y_pred}\")"
   ]
  },
  {
   "cell_type": "code",
   "execution_count": 16,
   "id": "ff01e62e",
   "metadata": {},
   "outputs": [],
   "source": [
    "import numpy as np\n",
    "from sklearn.linear_model import LinearRegression\n",
    "from sklearn.preprocessing import PolynomialFeatures"
   ]
  },
  {
   "cell_type": "code",
   "execution_count": 21,
   "id": "fede48b5",
   "metadata": {},
   "outputs": [],
   "source": [
    "x=np.array([5,15,25,35,45,55]).reshape((-1,1))\n",
    "y=np.array([15,11,2,8,25,32])"
   ]
  },
  {
   "cell_type": "code",
   "execution_count": 22,
   "id": "cfd1b676",
   "metadata": {},
   "outputs": [],
   "source": [
    "transformer=PolynomialFeatures(degree=2,include_bias=False)"
   ]
  },
  {
   "cell_type": "code",
   "execution_count": 23,
   "id": "56fc41eb",
   "metadata": {},
   "outputs": [
    {
     "data": {
      "text/plain": [
       "PolynomialFeatures(include_bias=False)"
      ]
     },
     "execution_count": 23,
     "metadata": {},
     "output_type": "execute_result"
    }
   ],
   "source": [
    "transformer.fit(x,y)"
   ]
  },
  {
   "cell_type": "code",
   "execution_count": 27,
   "id": "95212337",
   "metadata": {},
   "outputs": [],
   "source": [
    "x_=transformer.transform(x)\n",
    "model=LinearRegression().fit(x_,y)"
   ]
  },
  {
   "cell_type": "code",
   "execution_count": 28,
   "id": "72e437b3",
   "metadata": {},
   "outputs": [
    {
     "name": "stdout",
     "output_type": "stream",
     "text": [
      "coefficient of determination:0.8908516262498563\n",
      "intercept:21.372321428571453\n",
      "coefficients:[-1.32357143  0.02839286]\n"
     ]
    }
   ],
   "source": [
    "print(f\"coefficient of determination:{r_sq}\")\n",
    "print(f\"intercept:{model.intercept_}\")\n",
    "print(f\"coefficients:{model.coef_}\")"
   ]
  },
  {
   "cell_type": "code",
   "execution_count": 29,
   "id": "7f9ff97e",
   "metadata": {},
   "outputs": [],
   "source": [
    "x_=PolynomialFeatures(degree=2,include_bias=True).fit_transform(x)\n",
    "model=LinearRegression(fit_intercept=False).fit(x_,y)\n",
    "r_sq=model.score(x_,y)"
   ]
  },
  {
   "cell_type": "code",
   "execution_count": 30,
   "id": "7b5f4d77",
   "metadata": {},
   "outputs": [
    {
     "name": "stdout",
     "output_type": "stream",
     "text": [
      "coefficient of determination:0.8908516262498563\n",
      "intercept:0.0\n",
      "coefficients:[21.37232143 -1.32357143  0.02839286]\n"
     ]
    }
   ],
   "source": [
    "print(f\"coefficient of determination:{r_sq}\")\n",
    "print(f\"intercept:{model.intercept_}\")\n",
    "print(f\"coefficients:{model.coef_}\")"
   ]
  },
  {
   "cell_type": "code",
   "execution_count": 31,
   "id": "4a3cec97",
   "metadata": {},
   "outputs": [
    {
     "name": "stdout",
     "output_type": "stream",
     "text": [
      "Predicted response:\n",
      "[15.46428571  7.90714286  6.02857143  9.82857143 19.30714286 34.46428571]\n"
     ]
    }
   ],
   "source": [
    "y_pred=model.predict(x_)\n",
    "print(f\"Predicted response:\\n{y_pred}\")"
   ]
  },
  {
   "cell_type": "code",
   "execution_count": null,
   "id": "91d8bf81",
   "metadata": {},
   "outputs": [],
   "source": []
  }
 ],
 "metadata": {
  "kernelspec": {
   "display_name": "Python 3 (ipykernel)",
   "language": "python",
   "name": "python3"
  },
  "language_info": {
   "codemirror_mode": {
    "name": "ipython",
    "version": 3
   },
   "file_extension": ".py",
   "mimetype": "text/x-python",
   "name": "python",
   "nbconvert_exporter": "python",
   "pygments_lexer": "ipython3",
   "version": "3.9.12"
  }
 },
 "nbformat": 4,
 "nbformat_minor": 5
}
